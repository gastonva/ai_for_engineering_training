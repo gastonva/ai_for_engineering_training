{
 "cells": [
  {
   "cell_type": "markdown",
   "id": "f61c724c",
   "metadata": {},
   "source": [
    "# Numpy basics"
   ]
  },
  {
   "cell_type": "code",
   "execution_count": 1,
   "id": "9a02faf9",
   "metadata": {},
   "outputs": [],
   "source": [
    "import numpy as np"
   ]
  },
  {
   "cell_type": "markdown",
   "id": "36888120",
   "metadata": {},
   "source": [
    "#### Basic Numpy 1-D array properties"
   ]
  },
  {
   "cell_type": "code",
   "execution_count": 2,
   "id": "da4663a4",
   "metadata": {},
   "outputs": [
    {
     "name": "stdout",
     "output_type": "stream",
     "text": [
      "1-D array: [1 2 3 4 5]\n",
      "Shape of the array: (5,)\n",
      "Number of dimensions: 1\n",
      "Size of the array: 5\n",
      "The lenght of the shape is equal to the number of dimensions: True\n"
     ]
    }
   ],
   "source": [
    "# Defining an 1-D array\n",
    "a = np.array([1, 2, 3, 4, 5])\n",
    "print(f\"1-D array: {a}\")\n",
    "\n",
    "# Shape of the array\n",
    "print(f\"Shape of the array: {a.shape}\")\n",
    "print(f\"Number of dimensions: {a.ndim}\")\n",
    "print(f\"Size of the array: {a.size}\")\n",
    "print(\n",
    "    f\"The lenght of the shape is equal to the number of dimensions: {len(a.shape) == a.ndim}\"\n",
    ")"
   ]
  },
  {
   "cell_type": "code",
   "execution_count": 3,
   "id": "839505a2",
   "metadata": {},
   "outputs": [
    {
     "name": "stdout",
     "output_type": "stream",
     "text": [
      "After changing the first element: [10  2  3  4  5]\n",
      "Array with zeros: [0. 0. 0. 0. 0.]\n",
      "Array with ones: [1. 1. 1. 1. 1.]\n",
      "Empty array: [1. 1. 1. 1. 1.]\n",
      "Array with consecutive integers: [0 1 2 3 4]\n"
     ]
    }
   ],
   "source": [
    "# Change the value of an element\n",
    "a[0] = 10\n",
    "print(f\"After changing the first element: {a}\")\n",
    "\n",
    "# Create an array with zeros\n",
    "b = np.zeros(5)\n",
    "print(f\"Array with zeros: {b}\")\n",
    "\n",
    "# Create an array with ones\n",
    "c = np.ones(5)\n",
    "print(f\"Array with ones: {c}\")\n",
    "\n",
    "# Create an empty array, note that \"empty\" means an array with random values\n",
    "d = np.empty(5)\n",
    "print(f\"Empty array: {d}\")\n",
    "\n",
    "# Create an array with consecutive integers\n",
    "e = np.arange(5)\n",
    "print(f\"Array with consecutive integers: {e}\")"
   ]
  },
  {
   "cell_type": "markdown",
   "id": "cd323ea9",
   "metadata": {},
   "source": [
    "#### Basic operations"
   ]
  },
  {
   "cell_type": "code",
   "execution_count": 4,
   "id": "bb57fed8",
   "metadata": {},
   "outputs": [
    {
     "name": "stdout",
     "output_type": "stream",
     "text": [
      "Sum of two arrays: [10  3  5  7  9]\n",
      "Element-wise multiplication: [ 0  2  6 12 20]\n",
      "Element-wise division: [10.          2.          1.5         1.33333333  1.25      ]\n",
      "Element-wise exponentiation: [100   4   9  16  25]\n",
      "Array after appending an element: [10  2  3  4  5  6]\n",
      "Element-wise comparison: [False False False False False]\n",
      "Element-wise greater than comparison: [ True False False  True  True]\n",
      "Logical AND operation: [False False  True  True False]\n"
     ]
    }
   ],
   "source": [
    "# Sum of two arrays\n",
    "f = a + e\n",
    "print(f\"Sum of two arrays: {f}\")\n",
    "\n",
    "# Element-wise multiplication\n",
    "g = a * e\n",
    "print(f\"Element-wise multiplication: {g}\")\n",
    "\n",
    "# Element-wise division\n",
    "e[0] = 1  # To avoid division by zero\n",
    "h = a / e\n",
    "print(f\"Element-wise division: {h}\")\n",
    "\n",
    "# Element-wise exponentiation\n",
    "i = a**2\n",
    "print(f\"Element-wise exponentiation: {i}\")\n",
    "\n",
    "# Appending an element to the array\n",
    "j = np.append(a, 6)\n",
    "print(f\"Array after appending an element: {j}\")\n",
    "\n",
    "# Element-wise comparison\n",
    "k = a == e\n",
    "print(f\"Element-wise comparison: {k}\")\n",
    "\n",
    "l = a > 3\n",
    "print(f\"Element-wise greater than comparison: {l}\")\n",
    "\n",
    "# Logical operations\n",
    "m = np.logical_and(a > 2, a < 5)\n",
    "print(f\"Logical AND operation: {m}\")"
   ]
  },
  {
   "cell_type": "markdown",
   "id": "6972ce39",
   "metadata": {},
   "source": [
    "#### Slicing arrays"
   ]
  },
  {
   "cell_type": "code",
   "execution_count": 5,
   "id": "78f2fe25",
   "metadata": {},
   "outputs": [
    {
     "name": "stdout",
     "output_type": "stream",
     "text": [
      "Slice of the array (from index 1 to 3): [2 3 4]\n",
      "Slice of the array with step 2: [10  3  5]\n",
      "Slice of the array from index 2 to the end: [3 4 5]\n"
     ]
    }
   ],
   "source": [
    "# Get a slice of the array\n",
    "a_slice = a[1:4]  # This will get elements from index 1 to 3 (4 is excluded)\n",
    "print(f\"Slice of the array (from index 1 to 3): {a_slice}\")\n",
    "\n",
    "# Slice with step\n",
    "a_slice_step = a[::2]  # This will get every second element\n",
    "print(f\"Slice of the array with step 2: {a_slice_step}\")\n",
    "\n",
    "# Slice from a given index to the end\n",
    "a_slice_end = a[2:]  # This will get elements from index 2 to the end\n",
    "print(f\"Slice of the array from index 2 to the end: {a_slice_end}\")"
   ]
  },
  {
   "cell_type": "markdown",
   "id": "db9edfeb",
   "metadata": {},
   "source": [
    "#### Copying an array"
   ]
  },
  {
   "cell_type": "code",
   "execution_count": 6,
   "id": "229b7033",
   "metadata": {},
   "outputs": [
    {
     "name": "stdout",
     "output_type": "stream",
     "text": [
      "Copied array: [10  2  3  4  5]\n",
      "Check if they are the same object False\n",
      "View of the array: [10  2  3  4  5]\n",
      "Check if they are the same object False\n"
     ]
    }
   ],
   "source": [
    "# Copying an array\n",
    "n = a.copy()  # equivalent to np.copy(a)\n",
    "print(f\"Copied array: {n}\")\n",
    "print(f\"Check if they are the same object {id(a) == id(n)}\")\n",
    "\n",
    "# Create a view of the array\n",
    "o = a.view()\n",
    "print(f\"View of the array: {o}\")\n",
    "print(f\"Check if they are the same object {id(a) == id(o)}\")"
   ]
  },
  {
   "cell_type": "markdown",
   "id": "c94c0466",
   "metadata": {},
   "source": [
    "#### Dealing with nd-array (arrays of dimension greater or equal than 2)"
   ]
  },
  {
   "cell_type": "code",
   "execution_count": 7,
   "id": "c9997329",
   "metadata": {},
   "outputs": [
    {
     "name": "stdout",
     "output_type": "stream",
     "text": [
      "2-D array: [[1 2 3]\n",
      " [4 5 6]]\n",
      "Random 2-D array: [[0.53982727 0.24798391 0.87906094]\n",
      " [0.2986484  0.1914917  0.49840203]\n",
      " [0.12233632 0.12186247 0.90890639]]\n",
      "Dot product: [[ 1.50413302  0.99655474  4.60258417]\n",
      " [ 4.38656897  2.680569   11.46169225]]\n",
      "Transpose of the matrix: [[1 4]\n",
      " [2 5]\n",
      " [3 6]]\n",
      "Reshaped array (3x4): [[ 0  1  2  3]\n",
      " [ 4  5  6  7]\n",
      " [ 8  9 10 11]]\n",
      "Reversed array: [ 5  4  3  2 10]\n",
      "Flattened array: [1 2 3 4 5 6]\n",
      "Concatenated array: [10  2  3  4  5  1  1  2  3  4]\n"
     ]
    }
   ],
   "source": [
    "# Create a 2-D array\n",
    "p = np.array([[1, 2, 3], [4, 5, 6]])\n",
    "print(f\"2-D array: {p}\")\n",
    "\n",
    "# Create a random 2-D array\n",
    "q = np.random.rand(3, 3)\n",
    "print(f\"Random 2-D array: {q}\")\n",
    "\n",
    "# Dot product\n",
    "r = np.dot(p, q)\n",
    "print(f\"Dot product: {r}\")\n",
    "\n",
    "# Transpose of a matrix\n",
    "s = np.transpose(p)\n",
    "print(f\"Transpose of the matrix: {s}\")\n",
    "\n",
    "# Reshape an array\n",
    "t = np.arange(12).reshape(3, 4)\n",
    "print(f\"Reshaped array (3x4): {t}\")\n",
    "\n",
    "# Reverse an array\n",
    "u = np.flip(a)\n",
    "print(f\"Reversed array: {u}\")\n",
    "\n",
    "# Flatten an array\n",
    "v = p.flatten()\n",
    "print(f\"Flattened array: {v}\")\n",
    "\n",
    "# Concatenate arrays\n",
    "w = np.concatenate((a, e))\n",
    "print(f\"Concatenated array: {w}\")"
   ]
  },
  {
   "cell_type": "markdown",
   "id": "906180fc",
   "metadata": {},
   "source": [
    "#### Saving and loading Numpy objects"
   ]
  },
  {
   "cell_type": "code",
   "execution_count": 8,
   "id": "134daa30",
   "metadata": {},
   "outputs": [
    {
     "name": "stdout",
     "output_type": "stream",
     "text": [
      "Loaded array: [10  2  3  4  5]\n"
     ]
    }
   ],
   "source": [
    "# Save an array\n",
    "np.save(\"array.npy\", a)\n",
    "\n",
    "# Load an array\n",
    "x = np.load(\"array.npy\")\n",
    "print(f\"Loaded array: {x}\")"
   ]
  },
  {
   "cell_type": "markdown",
   "id": "abece94b",
   "metadata": {},
   "source": [
    "## Advanced operations"
   ]
  },
  {
   "cell_type": "markdown",
   "id": "cbd0f9ce",
   "metadata": {},
   "source": [
    "#### Broadcasting\n",
    "Ref: [Broadcasting](https://numpy.org/doc/stable/user/basics.broadcasting.html)"
   ]
  },
  {
   "cell_type": "code",
   "execution_count": 9,
   "id": "6a58e0d3",
   "metadata": {},
   "outputs": [
    {
     "name": "stdout",
     "output_type": "stream",
     "text": [
      "Array of shape: (3, 1)\n",
      "Array of shape: (1, 3)\n",
      "Broadcasted array: [[2 3 4]\n",
      " [3 4 5]\n",
      " [4 5 6]]\n"
     ]
    }
   ],
   "source": [
    "# Broadcasting is how numpy handles arrays of different shapes during arithmetic operations\n",
    "# And what it does is it expands the smaller array to the size of the larger one by repeating it\n",
    "# across one axis\n",
    "\n",
    "a = np.array([[1], [2], [3]])\n",
    "print(f\"Array of shape: {a.shape}\")\n",
    "\n",
    "b = np.array([[1, 2, 3]])\n",
    "print(f\"Array of shape: {b.shape}\")\n",
    "\n",
    "# Broadcasting\n",
    "c = a + b\n",
    "print(f\"Broadcasted array: {c}\")"
   ]
  },
  {
   "cell_type": "markdown",
   "id": "7f1ae37e",
   "metadata": {},
   "source": [
    "#### Advanced indexing\n",
    "Ref: [Indexing](https://numpy.org/doc/stable/user/basics.indexing.html)"
   ]
  },
  {
   "cell_type": "code",
   "execution_count": 10,
   "id": "d38741cb",
   "metadata": {},
   "outputs": [
    {
     "name": "stdout",
     "output_type": "stream",
     "text": [
      "Element at row 1 and column 2: 6\n",
      "Element at row 1 and column 2: 6\n",
      "Selected rows 1 and 2: [[1 2 3]\n",
      " [7 8 9]]\n",
      "Select row 1 and all the columns: [1 2 3]\n",
      "Select column 2 and all the rows: [2 5 8]\n",
      "Select row 1 and all the columns with newaxis: [[1]\n",
      " [2]\n",
      " [3]]\n",
      "Select column 1 and all the rows with newaxis: [[1 4 7]]\n",
      "Diagonal with indexing: [1 5 9]\n"
     ]
    }
   ],
   "source": [
    "matrix = np.array([[1, 2, 3], [4, 5, 6], [7, 8, 9]])\n",
    "\n",
    "# A basic indexing is to get the row and column\n",
    "row = 1\n",
    "column = 2\n",
    "print(f\"Element at row {row} and column {column}: {matrix[row][column]}\")\n",
    "\n",
    "# Advanced indexing\n",
    "print(f\"Element at row {row} and column {column}: {matrix[(row, column)]}\")\n",
    "\n",
    "# Select specific rows\n",
    "rows = [0, 2]\n",
    "print(f\"Selected rows 1 and 2: {matrix[rows]}\")\n",
    "\n",
    "# Dimensional indexing\n",
    "print(f\"Select row 1 and all the columns: {matrix[0, :]}\")\n",
    "print(f\"Select column 2 and all the rows: {matrix[:, 1]}\")\n",
    "\n",
    "# Dimensional indexing with newaxis\n",
    "print(f\"Select row 1 and all the columns with newaxis: {matrix[0, :, np.newaxis]}\")\n",
    "print(f\"Select column 1 and all the rows with newaxis: {matrix[np.newaxis, :, 0]}\")\n",
    "\n",
    "# Get the diagonal of a matrix\n",
    "diagonal_with_indexing = matrix[[0, 1, 2], [0, 1, 2]]\n",
    "print(f\"Diagonal with indexing: {diagonal_with_indexing}\")"
   ]
  },
  {
   "cell_type": "markdown",
   "id": "6f52c3f3",
   "metadata": {},
   "source": [
    "#### Note\n",
    "\n",
    "The advanced dimensional indexing with `newaxis` could be useful while using different AI frameworks for dimensional compatibility.\n",
    "\n",
    "Ref: [numpy.newaxis](https://numpy.org/doc/stable/reference/constants.html#numpy.newaxis)"
   ]
  },
  {
   "cell_type": "markdown",
   "id": "e8566b1f",
   "metadata": {},
   "source": [
    "#### Sorting\n",
    "\n",
    "Ref: [Sorting and Searching](https://numpy.org/doc/stable/reference/routines.sort.html#sorting)"
   ]
  },
  {
   "cell_type": "code",
   "execution_count": 11,
   "id": "12f450e2",
   "metadata": {},
   "outputs": [
    {
     "name": "stdout",
     "output_type": "stream",
     "text": [
      "Unsorted array: [[0 8 7]\n",
      " [2 2 3]\n",
      " [0 6 0]]\n",
      "Sorted array with standard sort: [[0 2 0]\n",
      " [0 6 3]\n",
      " [2 8 7]]\n",
      "Sorted array within axis 0: [[0 2 0]\n",
      " [0 6 3]\n",
      " [2 8 7]]\n",
      "Sorted array within axis 1: [[0 7 8]\n",
      " [2 2 3]\n",
      " [0 0 6]]\n"
     ]
    }
   ],
   "source": [
    "# Standard sort\n",
    "unserted_matrix = np.random.randint(10, size=(3, 3))\n",
    "print(f\"Unsorted array: {unserted_matrix}\")\n",
    "\n",
    "# Note that this sorts each list independently\n",
    "matrix_standard_sorted = np.sort(unserted_matrix, axis=0)\n",
    "print(f\"Sorted array with standard sort: {matrix_standard_sorted}\")\n",
    "\n",
    "# Sort within axis 0 --- Same as default sort\n",
    "matrix_axis_0_sorted = np.sort(unserted_matrix, axis=0)\n",
    "print(f\"Sorted array within axis 0: {matrix_axis_0_sorted}\")\n",
    "\n",
    "# Sort within axis 1\n",
    "matrix_axis_1_sorted = np.sort(unserted_matrix, axis=1)\n",
    "print(f\"Sorted array within axis 1: {matrix_axis_1_sorted}\")"
   ]
  },
  {
   "cell_type": "markdown",
   "id": "3c6bbbc7",
   "metadata": {},
   "source": [
    "#### Searching\n",
    "\n",
    "Ref: [Sorting and Searching](https://numpy.org/doc/stable/reference/routines.sort.html#sorting)"
   ]
  },
  {
   "cell_type": "code",
   "execution_count": 12,
   "id": "124bc484",
   "metadata": {},
   "outputs": [
    {
     "name": "stdout",
     "output_type": "stream",
     "text": [
      "Index of the maximum value: 7\n",
      "Index of the minimum value: 1\n",
      "Values greater than 0.5: [0.52826673 0.82862748 0.64805348]\n"
     ]
    }
   ],
   "source": [
    "rand_arr = np.random.rand(3, 3)\n",
    "\n",
    "# find the index of the maximum value\n",
    "max_index = np.argmax(rand_arr)\n",
    "print(f\"Index of the maximum value: {max_index}\")\n",
    "\n",
    "# find the index of the minimum value\n",
    "min_index = np.argmin(rand_arr)\n",
    "print(f\"Index of the minimum value: {min_index}\")\n",
    "\n",
    "# Find a value with where mask\n",
    "mask = np.where(rand_arr > 0.5)\n",
    "print(f\"Values greater than 0.5: {rand_arr[mask]}\")"
   ]
  },
  {
   "cell_type": "markdown",
   "id": "3df68297",
   "metadata": {},
   "source": [
    "#### Iterating"
   ]
  },
  {
   "cell_type": "code",
   "execution_count": 13,
   "id": "c634a1f3",
   "metadata": {},
   "outputs": [
    {
     "name": "stdout",
     "output_type": "stream",
     "text": [
      "Element: 0\n",
      "Element: 8\n",
      "Element: 7\n",
      "Element: 2\n",
      "Element: 2\n",
      "Element: 3\n",
      "Element: 0\n",
      "Element: 6\n",
      "Element: 0\n",
      "Element: 0\n",
      "Element: 8\n",
      "Element: 7\n",
      "Element: 2\n",
      "Element: 2\n",
      "Element: 3\n",
      "Element: 0\n",
      "Element: 6\n",
      "Element: 0\n"
     ]
    }
   ],
   "source": [
    "# Let's use the unserted_matrix, if we can iterate over each element we can do it with a nested for loop\n",
    "\n",
    "for row in unserted_matrix:\n",
    "    for element in row:\n",
    "        print(f\"Element: {element}\")\n",
    "\n",
    "# This could be overwhealming if we have a high dimensional ndarray, so the best\n",
    "# way to do it is using nditer function\n",
    "\n",
    "for element in np.nditer(unserted_matrix):\n",
    "    print(f\"Element: {element}\")"
   ]
  },
  {
   "cell_type": "markdown",
   "id": "1e89a3f7",
   "metadata": {},
   "source": [
    "#### Masking"
   ]
  },
  {
   "cell_type": "code",
   "execution_count": 14,
   "id": "bcf3245b",
   "metadata": {},
   "outputs": [
    {
     "name": "stdout",
     "output_type": "stream",
     "text": [
      "Masked array: [[1.0 2.0 3.0]\n",
      " [4.0 -- 6.0]\n",
      " [-- 8.0 9.0]]\n",
      "Mean of the masked array: 4.714285714285714\n",
      "Sum of the masked array: 33.0\n"
     ]
    }
   ],
   "source": [
    "import numpy.ma as ma\n",
    "\n",
    "array_to_be_masked = np.array([[1, 2, 3], [4, np.inf, 6], [np.nan, 8, 9]])\n",
    "\n",
    "mask = ma.masked_array(\n",
    "    array_to_be_masked,\n",
    "    mask=[[False, False, False], [False, True, False], [True, False, False]],\n",
    ")\n",
    "print(f\"Masked array: {mask}\")\n",
    "print(f\"Mean of the masked array: {mask.mean()}\")\n",
    "print(f\"Sum of the masked array: {mask.sum()}\")"
   ]
  },
  {
   "cell_type": "markdown",
   "id": "0e3d41fe",
   "metadata": {},
   "source": [
    "#### Vectorization - How to apply custom functions to numpy arrays?"
   ]
  },
  {
   "cell_type": "code",
   "execution_count": 15,
   "id": "c536d919",
   "metadata": {},
   "outputs": [
    {
     "name": "stdout",
     "output_type": "stream",
     "text": [
      "Error: The truth value of an array with more than one element is ambiguous. Use a.any() or a.all()\n",
      "Vectorized result: [[1 0 1]\n",
      " [0 1 0]\n",
      " [1 0 1]]\n"
     ]
    }
   ],
   "source": [
    "def get_modulus(val: int | np.ndarray) -> int:\n",
    "    if val % 2 == 0:\n",
    "        return 0\n",
    "    else:\n",
    "        return val % 2\n",
    "\n",
    "\n",
    "# Applying get_modulus directly to the array will fail\n",
    "try:\n",
    "    get_modulus(matrix)\n",
    "except Exception as e:\n",
    "    print(f\"Error: {e}\")\n",
    "\n",
    "vectorized_get_modulus = np.vectorize(get_modulus)\n",
    "vectorized_result = vectorized_get_modulus(matrix)\n",
    "print(f\"Vectorized result: {vectorized_result}\")"
   ]
  },
  {
   "cell_type": "markdown",
   "id": "01226e00",
   "metadata": {},
   "source": [
    "#### Matrix multiplications"
   ]
  },
  {
   "cell_type": "code",
   "execution_count": 16,
   "id": "f9978946",
   "metadata": {},
   "outputs": [
    {
     "name": "stdout",
     "output_type": "stream",
     "text": [
      "Algebraic product: [[ 30  24  18]\n",
      " [ 84  69  54]\n",
      " [138 114  90]]\n",
      "Algebraic product with operator: [[ 30  24  18]\n",
      " [ 84  69  54]\n",
      " [138 114  90]]\n"
     ]
    }
   ],
   "source": [
    "# Define two 3x3 matrices\n",
    "matrix1 = np.array([[1, 2, 3], [4, 5, 6], [7, 8, 9]])\n",
    "matrix2 = np.array([[9, 8, 7], [6, 5, 4], [3, 2, 1]])\n",
    "\n",
    "# Algebraic matrix multiplication\n",
    "algebraic_product = np.matmul(matrix1, matrix2)\n",
    "print(f\"Algebraic product: {algebraic_product}\")\n",
    "\n",
    "# which is equivalent to the new operator @\n",
    "algebraic_product_operator = matrix1 @ matrix2\n",
    "print(f\"Algebraic product with operator: {algebraic_product_operator}\")"
   ]
  },
  {
   "cell_type": "markdown",
   "id": "5b513514",
   "metadata": {},
   "source": [
    "## Custom `dtype` and performance"
   ]
  },
  {
   "cell_type": "markdown",
   "id": "fde72480",
   "metadata": {},
   "source": [
    "Ref: [Custom dtype](https://numpy.org/doc/stable/reference/arrays.dtypes.html)\n",
    "\n",
    "Defining custom data type objects can lead to better performance if there are a lot of operations"
   ]
  },
  {
   "cell_type": "code",
   "execution_count": 17,
   "id": "8264283f",
   "metadata": {},
   "outputs": [
    {
     "name": "stdout",
     "output_type": "stream",
     "text": [
      "dtype of default numpy array: <U32\n",
      "dtype of custom dtype array: [('f0', '<U5'), ('f1', '<f4')]\n",
      "dtype of object dtype array: object\n",
      "Memory consumption of default numpy array: 768 bytes\n",
      "Memory consumption of custom dtype array: 72 bytes\n",
      "Memory consumption of object dtype array: 48 bytes\n"
     ]
    }
   ],
   "source": [
    "# Example of memory consumption\n",
    "\n",
    "dt = np.dtype(\n",
    "    \"U5, f4\"\n",
    ")  # U5 means unicode string of length 5, f4 means float of 4 bytes\n",
    "\n",
    "default_numpy_dtype = np.array([(\"hello\", 1.23), (\"world\", 5122.99), (\"numpy\", 63.23)])\n",
    "\n",
    "custom_dtype_array = np.array(\n",
    "    [(\"hello\", 1.23), (\"world\", 5122.99), (\"numpy\", 63.23)], dtype=dt\n",
    ")\n",
    "\n",
    "object_dtype_array = np.array(\n",
    "    [(\"hello\", 1.23), (\"world\", 5122.99), (\"numpy\", 63.23)], dtype=object\n",
    ")\n",
    "\n",
    "print(f\"dtype of default numpy array: {default_numpy_dtype.dtype}\")\n",
    "print(f\"dtype of custom dtype array: {custom_dtype_array.dtype}\")\n",
    "print(f\"dtype of object dtype array: {object_dtype_array.dtype}\")\n",
    "\n",
    "# Memory consumption\n",
    "print(f\"Memory consumption of default numpy array: {default_numpy_dtype.nbytes} bytes\")\n",
    "print(f\"Memory consumption of custom dtype array: {custom_dtype_array.nbytes} bytes\")\n",
    "print(f\"Memory consumption of object dtype array: {object_dtype_array.nbytes} bytes\")"
   ]
  },
  {
   "cell_type": "code",
   "execution_count": null,
   "id": "4a6eee92",
   "metadata": {},
   "outputs": [],
   "source": []
  }
 ],
 "metadata": {
  "kernelspec": {
   "display_name": ".venv",
   "language": "python",
   "name": "python3"
  },
  "language_info": {
   "codemirror_mode": {
    "name": "ipython",
    "version": 3
   },
   "file_extension": ".py",
   "mimetype": "text/x-python",
   "name": "python",
   "nbconvert_exporter": "python",
   "pygments_lexer": "ipython3",
   "version": "3.13.2"
  }
 },
 "nbformat": 4,
 "nbformat_minor": 5
}
