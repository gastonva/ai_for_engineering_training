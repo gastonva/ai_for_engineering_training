{
 "cells": [
  {
   "cell_type": "code",
   "execution_count": 1,
   "id": "276acf91",
   "metadata": {},
   "outputs": [],
   "source": [
    "import numpy as np"
   ]
  },
  {
   "cell_type": "markdown",
   "id": "a6cf7764",
   "metadata": {},
   "source": [
    "#### 1. Apply a min-max normalization (feature-wise)\n",
    "\n",
    "Given the following matrix\n",
    "\n",
    "$M = \\begin{bmatrix}\n",
    "2 & 8 & 6\\\\\n",
    "1 & 7 & 4\\\\\n",
    "3 & 6 & 5\n",
    "\\end{bmatrix}$"
   ]
  },
  {
   "cell_type": "code",
   "execution_count": 2,
   "id": "9937aeea",
   "metadata": {},
   "outputs": [
    {
     "name": "stdout",
     "output_type": "stream",
     "text": [
      "Original array:\n",
      "[[2. 8. 6.]\n",
      " [1. 7. 4.]\n",
      " [3. 6. 5.]]\n",
      "Normalized array:\n",
      "[[0.5 1.  1. ]\n",
      " [0.  0.5 0. ]\n",
      " [1.  0.  0.5]]\n"
     ]
    }
   ],
   "source": [
    "arr = np.array([[2.0, 8.0, 6.0], [1.0, 7.0, 4.0], [3.0, 6.0, 5.0]])\n",
    "\n",
    "\n",
    "def min_max_normalization(arr: np.ndarray) -> np.ndarray:\n",
    "    \"\"\"Feature-wise normalization.\n",
    "\n",
    "    Note: Feature-wise normalization means that each feature (column) is normalized independently.\n",
    "\n",
    "    Args:\n",
    "        arr (np.ndarray): 2-D array of shape (n_samples, n_features) to be normalized.\n",
    "\n",
    "    Returns:\n",
    "        np.ndarray: Normalized array of the same shape as input.\n",
    "    \"\"\"\n",
    "\n",
    "    columns = arr.shape[1]\n",
    "\n",
    "    for col in range(columns):\n",
    "        min_val = arr[:, col].min()\n",
    "        max_val = arr[:, col].max()\n",
    "\n",
    "        # Avoid division by zero\n",
    "        if max_val - min_val == 0:\n",
    "            arr[:, col] = 0\n",
    "        else:\n",
    "            arr[:, col] = (arr[:, col] - min_val) / (max_val - min_val)\n",
    "\n",
    "    return arr\n",
    "\n",
    "\n",
    "normalized_arr = min_max_normalization(arr.copy())\n",
    "print(\"Original array:\")\n",
    "print(arr)\n",
    "print(\"Normalized array:\")\n",
    "print(normalized_arr)"
   ]
  },
  {
   "cell_type": "markdown",
   "id": "857e6a36",
   "metadata": {},
   "source": [
    "#### 2. One-hot encoding\n",
    "\n",
    "Get the one-hot of the following array\n",
    "\n",
    "$v = [0, 2, 1, 3]$\n",
    "\n",
    "[What is one-hot encoding?](https://dataheroes.ai/glossary/one-hot-encoding/)"
   ]
  },
  {
   "cell_type": "code",
   "execution_count": null,
   "id": "f6f7e96b",
   "metadata": {},
   "outputs": [
    {
     "name": "stdout",
     "output_type": "stream",
     "text": [
      "Original array:\n",
      "[0 2 1 3]\n",
      "One-hot encoded array:\n",
      "[[1. 0. 0. 0.]\n",
      " [0. 0. 1. 0.]\n",
      " [0. 1. 0. 0.]\n",
      " [0. 0. 0. 1.]]\n",
      "Original array:\n",
      "[0 2 1 3]\n",
      "One-hot encoded array with broadcasting:\n",
      "[[1. 0. 0. 0.]\n",
      " [0. 0. 1. 0.]\n",
      " [0. 1. 0. 0.]\n",
      " [0. 0. 0. 1.]]\n"
     ]
    }
   ],
   "source": [
    "arr = np.array([0, 2, 1, 3])\n",
    "\n",
    "\n",
    "def one_hot_encoding(arr: np.ndarray) -> np.ndarray:\n",
    "    \"\"\"One-hot encoding of categorical variables.\n",
    "\n",
    "    Args:\n",
    "        arr (np.ndarray): 1-D array of categorical variables to be encoded.\n",
    "\n",
    "    Returns:\n",
    "        np.ndarray: One-hot encoded array.\n",
    "    \"\"\"\n",
    "\n",
    "    n_classes = arr.max() + 1\n",
    "    one_hot = np.zeros((arr.size, n_classes))\n",
    "\n",
    "    for i in range(arr.size):\n",
    "        one_hot[i, arr[i]] = 1\n",
    "\n",
    "    return one_hot\n",
    "\n",
    "\n",
    "one_hot_arr = one_hot_encoding(arr.copy())\n",
    "print(\"Original array:\")\n",
    "print(arr)\n",
    "print(\"One-hot encoded array:\")\n",
    "print(one_hot_arr)\n",
    "\n",
    "\n",
    "def one_hot_encoding_with_broadcasting(arr: np.ndarray) -> np.ndarray:\n",
    "    # np.arange(arr.max()+1) creates an array of shape (n_classes,)\n",
    "    # arr[:, np.newaxis] reshapes arr to (n_samples, 1) (a column vector)\n",
    "    # the comparison arr[:, np.newaxis] == np.arange(arr.max()+1) creates a 2D boolean array\n",
    "    # of shape (n_samples, n_classes), where each row corresponds to the one-hot encoding\n",
    "    # of the respective element in arr.\n",
    "    return (np.arange(arr.max() + 1) == arr[:, np.newaxis]).astype(float)\n",
    "\n",
    "\n",
    "one_hot_arr_broadcasting = one_hot_encoding_with_broadcasting(arr.copy())\n",
    "print(\"Original array:\")\n",
    "print(arr)\n",
    "print(\"One-hot encoded array with broadcasting:\")\n",
    "print(one_hot_arr_broadcasting)"
   ]
  },
  {
   "cell_type": "markdown",
   "id": "9524cfa8",
   "metadata": {},
   "source": [
    "#### 3. Cosine similarity\n",
    "\n",
    "Get the cosine similarity for the following arrays\n",
    "\n",
    "$v_1 = [1.0, 2.0, 3.0]$\n",
    "\n",
    "$v_2 = [4.0, 5.0, 6.0]$\n",
    "\n",
    "Resources:\n",
    "\n",
    "- [Definition of cosine similarity](https://en.wikipedia.org/wiki/Cosine_similarity)\n",
    "- [Why is it useful](https://www.datastax.com/guides/what-is-cosine-similarity)"
   ]
  },
  {
   "cell_type": "code",
   "execution_count": 14,
   "id": "ee42fae7",
   "metadata": {},
   "outputs": [
    {
     "name": "stdout",
     "output_type": "stream",
     "text": [
      "Vector 1:\n",
      "[1 2 3]\n",
      "Vector 2:\n",
      "[4 5 6]\n",
      "Cosine similarity:\n",
      "0.9746318461970762\n"
     ]
    }
   ],
   "source": [
    "v_1 = np.array([1, 2, 3])\n",
    "v_2 = np.array([4, 5, 6])\n",
    "\n",
    "\n",
    "def cosine_similarity(arr1: np.ndarray, arr2: np.ndarray) -> np.ndarray:\n",
    "    \"\"\"Compute cosine similarity between two vectors.\n",
    "\n",
    "    Args:\n",
    "        arr1 (np.ndarray): First vector.\n",
    "        arr2 (np.ndarray): Second vector.\n",
    "\n",
    "    Returns:\n",
    "        float: Cosine similarity between the two vectors.\n",
    "    \"\"\"\n",
    "\n",
    "    dot_product = np.dot(arr1, arr2)\n",
    "    norm_a = np.linalg.norm(arr1)\n",
    "    norm_b = np.linalg.norm(arr2)\n",
    "\n",
    "    # Avoid division by zero\n",
    "    if norm_a == 0 or norm_b == 0:\n",
    "        return 0.0\n",
    "\n",
    "    return dot_product / (norm_a * norm_b)\n",
    "\n",
    "\n",
    "similarity = cosine_similarity(v_1, v_2)\n",
    "print(\"Vector 1:\")\n",
    "print(v_1)\n",
    "print(\"Vector 2:\")\n",
    "print(v_2)\n",
    "print(\"Cosine similarity:\")\n",
    "print(similarity)"
   ]
  },
  {
   "cell_type": "markdown",
   "id": "b6640be6",
   "metadata": {},
   "source": [
    "#### Outliers detection\n",
    "\n",
    "Given the following array\n",
    "\n",
    "$v = [10, 12, 11, 13, 10, 200, 9, 11]$ \n",
    "\n",
    "get the index of all elements that are beyond $avg(v) \\pm 2\\sigma$"
   ]
  },
  {
   "cell_type": "code",
   "execution_count": null,
   "id": "e19d7213",
   "metadata": {},
   "outputs": [
    {
     "name": "stdout",
     "output_type": "stream",
     "text": [
      "Original array:\n",
      "[ 10  12  11  13  10 200   9  11]\n",
      "Outliers indexes:\n",
      "[5]\n"
     ]
    }
   ],
   "source": [
    "v = np.array([10, 12, 11, 13, 10, 200, 9, 11])\n",
    "\n",
    "\n",
    "def get_outliers_indexes(arr: np.ndarray) -> np.ndarray:\n",
    "    avg = np.mean(arr)\n",
    "    std = np.std(arr)\n",
    "    threshold = 2 * std\n",
    "\n",
    "    # Find indexes of outliers using a boolean mask\n",
    "    outliers = np.where(np.abs(arr - avg) > threshold)[0]\n",
    "    return outliers\n",
    "\n",
    "\n",
    "outliers = get_outliers_indexes(v.copy())\n",
    "print(\"Original array:\")\n",
    "print(v)\n",
    "print(\"Outliers indexes:\")\n",
    "print(outliers)"
   ]
  },
  {
   "cell_type": "markdown",
   "id": "f550f6ed",
   "metadata": {},
   "source": [
    "#### Grouping by key\n",
    "\n",
    "Given the following arrays\n",
    "\n",
    "$k = [\"user1\", \"user2\", \"user1\", \"user3\", \"user2\"]$\n",
    "\n",
    "$v = [100, 200, 150, 50, 300]$\n",
    "\n",
    "Return a dictionary with the average by user."
   ]
  },
  {
   "cell_type": "code",
   "execution_count": null,
   "id": "bb152c58",
   "metadata": {},
   "outputs": [
    {
     "name": "stdout",
     "output_type": "stream",
     "text": [
      "Keys:\n",
      "['user1' 'user2' 'user1' 'user3' 'user2']\n",
      "Values:\n",
      "[100 200 150  50 300]\n",
      "Grouped dictionary:\n",
      "{'user1': 125.0, 'user2': 250.0, 'user3': 50.0}\n"
     ]
    }
   ],
   "source": [
    "keys = np.array([\"user1\", \"user2\", \"user1\", \"user3\", \"user2\"])\n",
    "values = np.array([100, 200, 150, 50, 300])\n",
    "\n",
    "np.set_printoptions(legacy=\"1.25\")  # Just for better printing\n",
    "\n",
    "\n",
    "def group_by_keys(keys: np.ndarray, values: np.ndarray) -> dict:\n",
    "    \"\"\"Group values by keys.\n",
    "\n",
    "    Args:\n",
    "        keys (np.ndarray): Array of keys.\n",
    "        values (np.ndarray): Array of values.\n",
    "\n",
    "    Returns:\n",
    "        dict: Dictionary with keys and their corresponding aggregated values.\n",
    "    \"\"\"\n",
    "\n",
    "    unique_keys = np.unique(keys)\n",
    "    grouped_dict = {}\n",
    "\n",
    "    for key in unique_keys:\n",
    "        mask = np.where(keys == key)\n",
    "        grouped_dict[key] = values[mask].mean()\n",
    "\n",
    "    return grouped_dict\n",
    "\n",
    "\n",
    "grouped_dict = group_by_keys(keys.copy(), values.copy())\n",
    "print(\"Keys:\")\n",
    "print(keys)\n",
    "print(\"Values:\")\n",
    "print(values)\n",
    "print(\"Grouped dictionary:\")\n",
    "print(grouped_dict)"
   ]
  },
  {
   "cell_type": "code",
   "execution_count": null,
   "id": "145b98a9",
   "metadata": {},
   "outputs": [],
   "source": []
  }
 ],
 "metadata": {
  "kernelspec": {
   "display_name": ".venv",
   "language": "python",
   "name": "python3"
  },
  "language_info": {
   "codemirror_mode": {
    "name": "ipython",
    "version": 3
   },
   "file_extension": ".py",
   "mimetype": "text/x-python",
   "name": "python",
   "nbconvert_exporter": "python",
   "pygments_lexer": "ipython3",
   "version": "3.13.2"
  }
 },
 "nbformat": 4,
 "nbformat_minor": 5
}
